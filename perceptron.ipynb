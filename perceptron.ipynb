{
 "cells": [
  {
   "cell_type": "code",
   "execution_count": 5,
   "id": "bde230c1-e493-4f0e-8627-f8a60d1d4446",
   "metadata": {},
   "outputs": [],
   "source": [
    "import os \n",
    "import matplotlib.pyplot as plt \n",
    "import joblib \n",
    "import numpy as np \n",
    "import pandas as pd \n",
    "\n",
    "plt.style.use(\"fivethirtyeight\")"
   ]
  },
  {
   "cell_type": "code",
   "execution_count": null,
   "id": "95ad4dcf-c62c-449f-8c1b-bff16e8dc813",
   "metadata": {},
   "outputs": [],
   "source": [
    "class Perceptron:\n",
    "    ''' This class implements the perceptron for XOR Gate '''\n",
    "    def __init__(self,eta:float=None, epochs: int=None):\n",
    "        self.weights = np.random.randn(3) * 1e-4\n",
    "        self.eta = eta #Learning Rate\n",
    "        self.epochs = epochs \n",
    "\n",
    "    def fit(self, X,y):\n",
    "        self.X = X \n",
    "        self.y = y\n",
    "\n",
    "        X_with_bias = np.c_[self.X, -np.ones((len(self.X),1))]\n",
    "        print(f'X with bias: \\n{X_with_bias}')\n"
   ]
  },
  {
   "cell_type": "code",
   "execution_count": 17,
   "id": "28fd0b9b",
   "metadata": {},
   "outputs": [],
   "source": [
    "obj = Perceptron(eta=0.01,epochs=10)"
   ]
  },
  {
   "cell_type": "code",
   "execution_count": null,
   "id": "b84dcf08",
   "metadata": {},
   "outputs": [
    {
     "data": {
      "text/plain": [
       "' This class implements the perceptron '"
      ]
     },
     "execution_count": 18,
     "metadata": {},
     "output_type": "execute_result"
    }
   ],
   "source": []
  },
  {
   "cell_type": "code",
   "execution_count": 19,
   "id": "0177a13c",
   "metadata": {},
   "outputs": [
    {
     "data": {
      "text/plain": [
       "array([[1., 1.],\n",
       "       [1., 1.],\n",
       "       [1., 1.],\n",
       "       [1., 1.]])"
      ]
     },
     "execution_count": 19,
     "metadata": {},
     "output_type": "execute_result"
    }
   ],
   "source": [
    "X = np.ones((4,2))\n",
    "X"
   ]
  },
  {
   "cell_type": "code",
   "execution_count": 20,
   "id": "cf76691d",
   "metadata": {},
   "outputs": [],
   "source": [
    "y = np.ones((4,1))"
   ]
  },
  {
   "cell_type": "code",
   "execution_count": 21,
   "id": "355d0912",
   "metadata": {},
   "outputs": [
    {
     "name": "stdout",
     "output_type": "stream",
     "text": [
      "X with bias: \n",
      "[[ 1.  1. -1.]\n",
      " [ 1.  1. -1.]\n",
      " [ 1.  1. -1.]\n",
      " [ 1.  1. -1.]]\n"
     ]
    }
   ],
   "source": [
    "obj.fit(X,y)"
   ]
  },
  {
   "cell_type": "code",
   "execution_count": null,
   "id": "f151a5e6",
   "metadata": {},
   "outputs": [],
   "source": []
  }
 ],
 "metadata": {
  "kernelspec": {
   "display_name": ".venv",
   "language": "python",
   "name": "python3"
  },
  "language_info": {
   "codemirror_mode": {
    "name": "ipython",
    "version": 3
   },
   "file_extension": ".py",
   "mimetype": "text/x-python",
   "name": "python",
   "nbconvert_exporter": "python",
   "pygments_lexer": "ipython3",
   "version": "3.9.7"
  }
 },
 "nbformat": 4,
 "nbformat_minor": 5
}
